{
 "cells": [
  {
   "cell_type": "markdown",
   "id": "4b9445a0",
   "metadata": {},
   "source": [
    "# 133.16: 1D finite flow\n",
    "\n",
    "This notebook shows the Bruggeman solution for:\n",
    "\n",
    "One dimensional finite flow; given head or drawdown at `x=b` and zero flux at `x=0`."
   ]
  },
  {
   "cell_type": "code",
   "execution_count": null,
   "id": "f6114c5c",
   "metadata": {},
   "outputs": [],
   "source": [
    "import matplotlib.pyplot as plt\n",
    "from numpy import linspace\n",
    "\n",
    "from bruggeman.flow1d import bruggeman_133_16"
   ]
  },
  {
   "cell_type": "code",
   "execution_count": null,
   "id": "3e31ee8a",
   "metadata": {},
   "outputs": [],
   "source": [
    "bruggeman_133_16"
   ]
  },
  {
   "cell_type": "code",
   "execution_count": null,
   "id": "4682c73d",
   "metadata": {},
   "outputs": [],
   "source": [
    "bruggeman_133_16?"
   ]
  },
  {
   "cell_type": "markdown",
   "id": "21aa7af4",
   "metadata": {},
   "source": [
    "## Subdivision b: Confined aquifers with zero head at `x=b`"
   ]
  },
  {
   "cell_type": "code",
   "execution_count": null,
   "id": "06b5a222",
   "metadata": {},
   "outputs": [],
   "source": [
    "# aquifer parameters\n",
    "L = 100.0\n",
    "S = 0.1\n",
    "k = 10.0\n",
    "D = 5.0\n",
    "p = 1e-3  # constant precipitation flux"
   ]
  },
  {
   "cell_type": "code",
   "execution_count": null,
   "id": "390ba860",
   "metadata": {},
   "outputs": [],
   "source": [
    "t = linspace(0.0, 10.0, 100)\n",
    "hx0 = bruggeman_133_16(0.0, t, L, S, k, D, p)\n",
    "hxL4 = bruggeman_133_16(L / 4, t, L, S, k, D, p)\n",
    "\n",
    "plt.figure(figsize=(8, 3), layout=\"tight\")\n",
    "plt.plot(t, hx0, label=\"x=0\")\n",
    "plt.plot(t, hxL4, label=\"x=L/4\")\n",
    "plt.grid(True)\n",
    "plt.xlabel(\"Time (d)\")\n",
    "plt.ylabel(\"Head (m)\")\n",
    "plt.title(\"Bruggeman 133.16\")\n",
    "plt.xlim(t[0], t[-1])\n",
    "plt.ylim(0.0)\n",
    "plt.legend()"
   ]
  },
  {
   "cell_type": "markdown",
   "id": "574bef35",
   "metadata": {},
   "source": [
    "This equation can be used to model drainage to drains and canals. \n",
    "\n",
    "Results are equal to Krayenhoff van de Leur - Maasland (e.g.: 'Cultuurtechnisch Vademecum', 1988, page 523)."
   ]
  },
  {
   "cell_type": "code",
   "execution_count": null,
   "id": "c42d5b22",
   "metadata": {},
   "outputs": [],
   "source": [
    "x = linspace(-L / 2, L / 2, 100)\n",
    "t_steps = [0, 0.5, 1.0, 2, 5, 10, 100.0]  # time steps in days\n",
    "\n",
    "fig, ax = plt.subplots(figsize=(12, 3), layout=\"tight\")\n",
    "for t in t_steps:\n",
    "    ht = bruggeman_133_16(x, t, L, S, k, D, p)\n",
    "    ax.plot(x, ht, label=f\"t={t} d\")\n",
    "\n",
    "ax.grid(True)\n",
    "ax.set_xlabel(\"Distance (m)\")\n",
    "ax.set_ylabel(\"Head (m)\")\n",
    "ax.set_title(\"Bruggeman 133.16\")\n",
    "ax.set_ylim(0.0)\n",
    "ax.legend()"
   ]
  }
 ],
 "metadata": {
  "kernelspec": {
   "display_name": "CWGI25",
   "language": "python",
   "name": "python3"
  },
  "language_info": {
   "codemirror_mode": {
    "name": "ipython",
    "version": 3
   },
   "file_extension": ".py",
   "mimetype": "text/x-python",
   "name": "python",
   "nbconvert_exporter": "python",
   "pygments_lexer": "ipython3",
   "version": "3.13.2"
  }
 },
 "nbformat": 4,
 "nbformat_minor": 5
}
