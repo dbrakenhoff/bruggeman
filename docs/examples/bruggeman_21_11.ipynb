{
 "cells": [
  {
   "cell_type": "markdown",
   "id": "4b9445a0",
   "metadata": {},
   "source": [
    "# 21.11: Confined phreatic flow with precipitation\n",
    "\n",
    "This notebook shows the Bruggeman solution for:\n",
    "\n",
    "Confined phreatic aquifer with horizontal 1D-flow. \n",
    "Flow caused by precipitation through an infinite strip of width `2b`, bounded at both sides by open water with equal level `H`."
   ]
  },
  {
   "cell_type": "code",
   "execution_count": null,
   "id": "f6114c5c",
   "metadata": {},
   "outputs": [],
   "source": [
    "import matplotlib.pyplot as plt\n",
    "from numpy import linspace\n",
    "\n",
    "from bruggeman.flow1d import bruggeman_21_11"
   ]
  },
  {
   "cell_type": "code",
   "execution_count": null,
   "id": "3e31ee8a",
   "metadata": {},
   "outputs": [],
   "source": [
    "bruggeman_21_11"
   ]
  },
  {
   "cell_type": "code",
   "execution_count": null,
   "id": "4682c73d",
   "metadata": {},
   "outputs": [],
   "source": [
    "bruggeman_21_11?"
   ]
  },
  {
   "cell_type": "code",
   "execution_count": null,
   "id": "06b5a222",
   "metadata": {},
   "outputs": [],
   "source": [
    "# aquifer parameters\n",
    "b = 50.0\n",
    "k = 1.0\n",
    "D = 1.0\n",
    "p = 5e-3  # constant precipitation flux"
   ]
  },
  {
   "cell_type": "code",
   "execution_count": null,
   "id": "c42d5b22",
   "metadata": {},
   "outputs": [],
   "source": [
    "x = linspace(-b, b, 100)\n",
    "\n",
    "fig, ax = plt.subplots(figsize=(12, 3), layout=\"tight\")\n",
    "\n",
    "h = bruggeman_21_11(x, b, k, D, p)\n",
    "ax.plot(x, h)\n",
    "\n",
    "ax.grid(True)\n",
    "ax.set_xlabel(\"Distance (m)\")\n",
    "ax.set_ylabel(\"Head (m)\")\n",
    "ax.set_title(\"Bruggeman 21.11\")\n",
    "ax.set_ylim(0.0);"
   ]
  }
 ],
 "metadata": {
  "kernelspec": {
   "display_name": "CWGI25",
   "language": "python",
   "name": "python3"
  },
  "language_info": {
   "codemirror_mode": {
    "name": "ipython",
    "version": 3
   },
   "file_extension": ".py",
   "mimetype": "text/x-python",
   "name": "python",
   "nbconvert_exporter": "python",
   "pygments_lexer": "ipython3",
   "version": "3.13.2"
  }
 },
 "nbformat": 4,
 "nbformat_minor": 5
}
