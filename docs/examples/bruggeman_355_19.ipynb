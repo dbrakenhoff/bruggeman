{
 "cells": [
  {
   "cell_type": "markdown",
   "id": "913772fb-2212-4c05-bb60-d206f265a613",
   "metadata": {},
   "source": [
    "### Solution 355.19"
   ]
  },
  {
   "cell_type": "code",
   "execution_count": null,
   "id": "70c38979-755c-4ca1-be14-292fb3ccf24f",
   "metadata": {},
   "outputs": [],
   "source": [
    "import numpy as np\n",
    "import matplotlib.pyplot as plt\n",
    "from mpmath import ellipf, ellipk"
   ]
  },
  {
   "cell_type": "code",
   "execution_count": null,
   "id": "19e24899-bbb4-4e2e-989e-700e85b0f2ac",
   "metadata": {},
   "outputs": [],
   "source": [
    "import numpy as np\n",
    "import matplotlib.pyplot as plt\n",
    "from mpmath import ellipf, ellipk\n",
    "\n",
    "def omega(x, z, L, B, h, k, D):\n",
    "    zeta = x + z * 1j\n",
    "    w = np.tanh(np.pi * zeta / (2 * D)) / np.tanh(np.pi * (L - B) / (2 * D))\n",
    "    m = (np.tanh(np.pi * (L - B) / (2 * D)) / np.tanh(np.pi * (L + B) / (2 * D))) ** 2\n",
    "    omega = k * h / ellipk(m) * ellipf(np.arcsin(w), m)\n",
    "    return omega\n",
    "\n",
    "def total_discharge(L, B, h, k, D):\n",
    "    m = (np.tanh(np.pi * (L - B) / (2 * D)) / np.tanh(np.pi * (L + B) / (2 * D))) ** 2\n",
    "    return k * h * ellipk(1 - m) / ellipk(m)"
   ]
  },
  {
   "cell_type": "code",
   "execution_count": null,
   "id": "47d0cc67-2ff1-4a1b-98ed-86560c4e2772",
   "metadata": {},
   "outputs": [],
   "source": [
    "L = 20 # m\n",
    "B = 5 # m\n",
    "h = 1 # m\n",
    "k = 10 # m/d\n",
    "D = 20 # m"
   ]
  },
  {
   "cell_type": "code",
   "execution_count": null,
   "id": "59190574-a25a-41ff-8821-4e5f87c95bf7",
   "metadata": {},
   "outputs": [],
   "source": [
    "nx, nz = 100, 100\n",
    "x, z = np.meshgrid(np.linspace(0, 2 * L, nx), np.linspace(0, D, nz))\n",
    "om = np.zeros((nz, nx), dtype='complex')\n",
    "for i in range(nx):\n",
    "    for j in range(nz):\n",
    "        om[i, j] = omega(x[i, j], z[i, j], L, B, h, k, D)"
   ]
  },
  {
   "cell_type": "code",
   "execution_count": null,
   "id": "e113c379-0ac2-48ae-8d23-9e4ceba7f8a2",
   "metadata": {},
   "outputs": [],
   "source": [
    "plt.subplot(111, aspect=1)\n",
    "plt.contour(x, z, om.real, np.arange(0, 10, 0.5), colors='C0')\n",
    "plt.contour(x, z, om.imag, np.arange(0, 10, 0.5), colors='C1')\n",
    "plt.ylim(20, 0) # z-axis is positive down\n",
    "plt.axvspan( L - B, L + B, 0, 20, color='lightgrey')"
   ]
  }
 ],
 "metadata": {
  "kernelspec": {
   "display_name": "Python 3 (ipykernel)",
   "language": "python",
   "name": "python3"
  },
  "language_info": {
   "codemirror_mode": {
    "name": "ipython",
    "version": 3
   },
   "file_extension": ".py",
   "mimetype": "text/x-python",
   "name": "python",
   "nbconvert_exporter": "python",
   "pygments_lexer": "ipython3",
   "version": "3.13.5"
  }
 },
 "nbformat": 4,
 "nbformat_minor": 5
}
