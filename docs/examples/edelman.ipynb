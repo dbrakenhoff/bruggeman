{
 "cells": [
  {
   "cell_type": "markdown",
   "id": "75fea600",
   "metadata": {},
   "source": [
    "# Edelman: sudden change in water level in a confined aquifer\n",
    "\n",
    "Example from Analyical Groundwater Modeling, ch. 5, p. 72."
   ]
  },
  {
   "cell_type": "code",
   "execution_count": null,
   "id": "5d696fd9",
   "metadata": {},
   "outputs": [],
   "source": [
    "import matplotlib.pyplot as plt\n",
    "import numpy as np\n",
    "import ttim\n",
    "\n",
    "from bruggeman.edelman import h_edelman"
   ]
  },
  {
   "cell_type": "code",
   "execution_count": null,
   "id": "c2b4e30e",
   "metadata": {},
   "outputs": [],
   "source": [
    "k = 10.0  # m/d, hydraulic conductivity\n",
    "H = 10.0  # m, thickness of aquifer\n",
    "S = 0.2  # -, storage coeffecient\n",
    "Δh = 2.0  # m, rise in water level\n",
    "t0 = 0.0  # time at which Δh is measured"
   ]
  },
  {
   "cell_type": "code",
   "execution_count": null,
   "id": "63b3fbda",
   "metadata": {},
   "outputs": [],
   "source": [
    "mlconf = ttim.ModelMaq(\n",
    "    kaq=k, z=[0, -H], Saq=S, tmin=1, tmax=1e2, topboundary=\"conf\", phreatictop=True\n",
    ")\n",
    "hls = ttim.HeadLineSink1D(mlconf, tsandh=[(0, Δh)], layers=[0])\n",
    "mlconf.solve()"
   ]
  },
  {
   "cell_type": "code",
   "execution_count": null,
   "id": "f881371c",
   "metadata": {},
   "outputs": [],
   "source": [
    "x = np.linspace(0, 200, 101)\n",
    "y = np.zeros_like(x)\n",
    "t = np.logspace(0, 2, 3)\n",
    "\n",
    "plt.figure(figsize=(10, 3))\n",
    "for i in range(len(t)):\n",
    "    h = mlconf.headalongline(x, y, t[i])\n",
    "    plt.plot(x, h.squeeze(), label=f\"t={t[i]:.0f} d\")\n",
    "    ha = h_edelman(x, t[i], k * H, S, Δh, t0)\n",
    "    plt.plot(x, ha, \"k:\")\n",
    "\n",
    "plt.plot([], [], c=\"k\", ls=\"dotted\", label=\"Edelman\")\n",
    "plt.legend(loc=(0, 1), frameon=False, ncol=6, fontsize=\"small\")\n",
    "plt.xlabel(\"x [m]\")\n",
    "plt.ylabel(\"head [m]\")\n",
    "plt.grid()"
   ]
  },
  {
   "cell_type": "code",
   "execution_count": null,
   "id": "6934cad2",
   "metadata": {},
   "outputs": [],
   "source": []
  }
 ],
 "metadata": {
  "language_info": {
   "name": "python"
  }
 },
 "nbformat": 4,
 "nbformat_minor": 5
}
